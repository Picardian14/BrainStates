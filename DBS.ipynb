{
 "cells": [
  {
   "cell_type": "code",
   "execution_count": 22,
   "id": "32b4e8a8-4f7d-40f2-961d-654ae8a395d3",
   "metadata": {},
   "outputs": [],
   "source": [
    "from cmath import cos\n",
    "from inspect import _void\n",
    "import math\n",
    "from sys import flags\n",
    "from scipy.io import loadmat\n",
    "import numpy as np\n",
    "import matplotlib.pyplot as plt\n",
    "from scipy import signal, stats\n",
    "import scipy.signal as spsg\n",
    "import os\n",
    "from sklearn.cluster import KMeans\n",
    "from scipy.spatial import distance\n",
    "import time\n",
    "import mat73\n",
    "import os\n",
    "from os.path import join\n",
    "TMAX = 111 # Length of time series\n",
    "NREGIONS = 82\n",
    "basePath = \"tDCS_timeseries\"\n",
    "awakePath = join(basePath, \"timeseries_CoCoMac_tDCS_awake\")\n",
    "anesthPath = join(basePath, \"timeseries_CoCoMac_tDCS_anesthesia\")\n"
   ]
  },
  {
   "cell_type": "code",
   "execution_count": null,
   "id": "ca74784f-e75b-47f8-b91a-563d3506e75f",
   "metadata": {},
   "outputs": [],
   "source": [
    "# Angular difference function\n",
    "def adif(a, b):\n",
    "    return 2*math.pi-abs(a-b) if abs(a-b)>math.pi else abs(a-b)\n",
    "vec_adif = np.vectorize(adif,otypes=[np.ndarray])\n",
    "def map_adif(t0xn):\n",
    "    \"\"\" Takes a timepoint of all the nodes and generates the phase differenes for all of them\n",
    "    Parameters\n",
    "    ----------\n",
    "    t0xn: np.array(1,N)\n",
    "        One timesample of an original nodesxsteps timeseries\n",
    "    Returns\n",
    "    ----------\n",
    "    np.array(N,N)\n",
    "        NxN matrix of phase differences\n",
    "    \"\"\"\n",
    "    return np.array(list(map(lambda node: vec_adif(t0xn,node),t0xn)))\n",
    "def create_phase_dif(ts):\n",
    "    \"\"\" Takes a whole trial and generates the phases differences for all timepoints\n",
    "    Parameters\n",
    "    ----------\n",
    "    t0xn: np.array(N,T)\n",
    "        A trial of T steps registiring N channels or nodes\n",
    "    Returns\n",
    "    ----------\n",
    "    np.array(N,N)\n",
    "        NxNxT matrix of phase differences\n",
    "    \"\"\"\n",
    "    return np.apply_along_axis(map_adif,-1,ts)\n",
    "\n",
    "vectorized_phase_diffs = np.apply_along_axis(create_phase_dif,0,instantaneous_phase)"
   ]
  },
  {
   "cell_type": "code",
   "execution_count": 21,
   "id": "47c7aef6",
   "metadata": {},
   "outputs": [
    {
     "data": {
      "text/plain": [
       "(554, 82, 111)"
      ]
     },
     "execution_count": 21,
     "metadata": {},
     "output_type": "execute_result"
    }
   ],
   "source": [
    "awakeFnames = os.listdir(awakePath)\n",
    "anesthFnames = os.listdir(anesthPath)\n",
    "ts_all = np.zeros((len(awakeFnames)+len(anesthFnames),NREGIONS,TMAX))\n",
    "for i,fn in enumerate(os.listdir(join(awakePath))):\n",
    "    tmp = loadmat(join(awakePath,fn))\n",
    "    ts_all[i, :, :] = np.swapaxes(tmp['scans'][:TMAX,:],0,1) \n",
    "\n",
    "for i,fn in enumerate(os.listdir(join(anesthPath))):\n",
    "    tmp = loadmat(join(anesthPath,fn))\n",
    "    ts_all[i+len(awakeFnames), :, :] = np.swapaxes(tmp['scans'][:TMAX,:],0,1) \n",
    "ts_all.shape"
   ]
  },
  {
   "cell_type": "code",
   "execution_count": 3,
   "id": "4201d34e-e0a5-4159-86f6-e7292af0d4cf",
   "metadata": {},
   "outputs": [],
   "source": [
    "#Data Anesthesia DBS\n",
    "data_ts = loadmat('data_ts_DBS_CoCoMac_0.0025-0.05_Cleaned_Camilo_version.mat')\n",
    "ts_aw=np.squeeze(data_ts['ts_aw'])  #36 scans\n",
    "ts_off=np.squeeze(data_ts['ts_off']) #28 scans\n",
    "ts_on_3V=np.squeeze(data_ts['ts_on_3V'])  #31 scans\n",
    "ts_on_3V_control=np.squeeze(data_ts['ts_on_3V_control']) #18 scans\n",
    "ts_on_5V=np.squeeze(data_ts['ts_on_5V'])  #25 scans\n",
    "ts_on_5V_control=np.squeeze(data_ts['ts_on_5V_control']) #18 scans\n",
    "ts_all = np.concatenate((ts_aw,ts_off,ts_on_3V,ts_on_3V_control,ts_on_5V,ts_on_5V_control),axis=0)"
   ]
  },
  {
   "cell_type": "code",
   "execution_count": 4,
   "id": "b1d9e002-1a95-4e2e-ba70-fd1b392b98b8",
   "metadata": {},
   "outputs": [
    {
     "name": "stdout",
     "output_type": "stream",
     "text": [
      "class:  ndarray\n",
      "shape:  (82, 500)\n",
      "strides:  (8, 656)\n",
      "itemsize:  8\n",
      "aligned:  True\n",
      "contiguous:  False\n",
      "fortran:  True\n",
      "data pointer: 0x55ffa1c6efe0\n",
      "byteorder:  little\n",
      "byteswap:  False\n",
      "type: float64\n"
     ]
    }
   ],
   "source": [
    "np.info(ts_all[0])"
   ]
  },
  {
   "cell_type": "code",
   "execution_count": 23,
   "id": "9b430f47-6681-4d6b-afc6-03fe31e9d433",
   "metadata": {},
   "outputs": [],
   "source": [
    "# Z-score\n",
    "ts_all_zscored = np.zeros((len(ts_all),NREGIONS,TMAX)) # Storage for z-scored filtered signals\n",
    "for i in range(len(ts_all)):\n",
    "    ts_all_zscored[i]=np.array(stats.zscore(ts_all[i],axis=1))"
   ]
  },
  {
   "cell_type": "code",
   "execution_count": 24,
   "id": "cb12a978-01c2-4e60-8209-13ce4aa643b4",
   "metadata": {},
   "outputs": [],
   "source": [
    "# Detrend signal\n",
    "for i in range(len(ts_all_zscored)):\n",
    "    ts_all_zscored[i] = spsg.detrend(ts_all_zscored[i],type='linear')\n",
    "# Demeaning signal\n",
    "for i in range(len(ts_all_zscored)):\n",
    "    ts_all_zscored[i] = ts_all_zscored[i]-np.mean(ts_all_zscored[i])\n",
    "signal = np.array(ts_all_zscored)"
   ]
  },
  {
   "cell_type": "code",
   "execution_count": 25,
   "id": "256004ea-6406-414c-9ed1-177f9e92e428",
   "metadata": {},
   "outputs": [],
   "source": [
    "# Reverse the signal, and Concatenation from both sides.\n",
    "signal_rev = np.flip(signal, axis=2)\n",
    "signal_rev_concat = np.concatenate((signal_rev, signal, signal_rev), axis=2)\n",
    "\n",
    "\n",
    "# Butterworth filter parameters\n",
    "n_order = 2\n",
    "TR = 2.4 # in seconds\n",
    "fnq = 1/(2*TR) # Nyquist frequency\n",
    "low_f = 0.0025 # lower cutoff for bandpass filter\n",
    "high_f = 0.05 # upper cutoff for bandpass filter\n",
    "Wn = [low_f/fnq,high_f/fnq]\n",
    "b,a = spsg.iirfilter(n_order,Wn,btype='bandpass',ftype='butter', output='ba')\n",
    "# Apply Butterworth filter\n",
    "filt_ts = np.empty_like(signal_rev_concat)\n",
    "for i in range(len(ts_all_zscored)):\n",
    "    filt_ts = spsg.filtfilt(b,a,signal_rev_concat,axis=1, padtype='odd', padlen=3*(max(len(b),len(a))-1))"
   ]
  },
  {
   "cell_type": "code",
   "execution_count": 26,
   "id": "b2c171cd-7c31-4db4-a0df-51b8fd5b16c6",
   "metadata": {},
   "outputs": [],
   "source": [
    "# Now we can cut the signal back to its original size by taking the middle part\n",
    "signal_filtered = filt_ts[:,:,len(signal_rev[0][0]):len(signal_rev[0][0])+len(signal[0][0])]\n",
    "\n",
    "# And we can demean it again\n",
    "signal_filtered = signal_filtered - np.mean(signal_filtered, axis=2, keepdims=True)\n",
    "\n",
    "\n",
    "# Analytical continuation of our signal\n",
    "analytic_signal = spsg.hilbert(signal_filtered)\n",
    "amplitude_envelope = np.abs(analytic_signal)\n",
    "instantaneous_phase = np.unwrap(np.angle(analytic_signal)) # Unwrap doesn't do anything?\n",
    "# signal_reconstr = amplitude_envelope*np.cos(instantaneous_phase) # To ensure that we can reconstruct our initial signal from the hilbert transform"
   ]
  },
  {
   "cell_type": "code",
   "execution_count": 1,
   "id": "a1bdcc7b-faba-4443-8802-48480813b132",
   "metadata": {},
   "outputs": [
    {
     "ename": "NameError",
     "evalue": "name 'np' is not defined",
     "output_type": "error",
     "traceback": [
      "\u001b[0;31m---------------------------------------------------------------------------\u001b[0m",
      "\u001b[0;31mNameError\u001b[0m                                 Traceback (most recent call last)",
      "Cell \u001b[0;32mIn[1], line 1\u001b[0m\n\u001b[0;32m----> 1\u001b[0m np\u001b[39m.\u001b[39minfo(instantaneous_phase)\n",
      "\u001b[0;31mNameError\u001b[0m: name 'np' is not defined"
     ]
    }
   ],
   "source": [
    "np.info(instantaneous_phase)"
   ]
  },
  {
   "cell_type": "code",
   "execution_count": 43,
   "id": "8c632eda",
   "metadata": {},
   "outputs": [
    {
     "data": {
      "text/plain": [
       "111"
      ]
     },
     "execution_count": 43,
     "metadata": {},
     "output_type": "execute_result"
    }
   ],
   "source": [
    "len(instantaneous_phase[0][0])"
   ]
  },
  {
   "cell_type": "code",
   "execution_count": 28,
   "id": "ab91e677-aa1e-49f3-9262-2d38ebc6cf5c",
   "metadata": {},
   "outputs": [],
   "source": [
    "# Now we can calculate the phase difference between each pair of regions using the adif function\n",
    "# We will store the phase differences in a matrix of size (n_regions, n_regions, n_timepoints)\n",
    "phase_diff = np.zeros((len(instantaneous_phase),len(instantaneous_phase[0]),len(instantaneous_phase[0]),len(instantaneous_phase[0][0])))\n",
    "for ind in range(len(instantaneous_phase)):\n",
    "    for t in range(len(instantaneous_phase[0][0])):\n",
    "        for i in range(len(instantaneous_phase[0])):\n",
    "            for j in range(len(instantaneous_phase[0])):\n",
    "                if i==j:\n",
    "                    phase_diff[ind,i,j,t] = 0\n",
    "                else:\n",
    "                    phase_diff[ind,i,j,t] = np.cos(adif(instantaneous_phase[ind][i][t], instantaneous_phase[ind][j][t]))\n",
    "\n",
    "# Quite lengthy operation: hate those for loops :'(\n",
    "# Find a way through numpy array handling"
   ]
  },
  {
   "cell_type": "code",
   "execution_count": null,
   "id": "a9de10a2",
   "metadata": {},
   "outputs": [
    {
     "data": {
      "text/plain": [
       "6724"
      ]
     },
     "execution_count": 31,
     "metadata": {},
     "output_type": "execute_result"
    }
   ],
   "source": [
    "len(instantaneous_phase[0])\n"
   ]
  },
  {
   "cell_type": "code",
   "execution_count": 37,
   "id": "349f9818",
   "metadata": {},
   "outputs": [
    {
     "data": {
      "text/plain": [
       "111"
      ]
     },
     "execution_count": 37,
     "metadata": {},
     "output_type": "execute_result"
    }
   ],
   "source": [
    "len(instantaneous_phase[0][0])"
   ]
  },
  {
   "cell_type": "code",
   "execution_count": null,
   "id": "2d081911",
   "metadata": {},
   "outputs": [],
   "source": []
  },
  {
   "cell_type": "code",
   "execution_count": 40,
   "id": "4202ea12",
   "metadata": {},
   "outputs": [
    {
     "data": {
      "text/plain": [
       "554"
      ]
     },
     "execution_count": 40,
     "metadata": {},
     "output_type": "execute_result"
    }
   ],
   "source": [
    "len(instantaneous_phase)"
   ]
  },
  {
   "cell_type": "code",
   "execution_count": null,
   "id": "dddebdf3-a108-44cb-833f-a83359b077dd",
   "metadata": {},
   "outputs": [],
   "source": [
    "# y = int(len(instantaneous_phase)*len(instantaneous_phase[0][0][0]))\n",
    "# x = int(len(instantaneous_phase[0][0])/2*(len(instantaneous_phase[0][0])-1))\n",
    "# Vectorize the superior triangular\n",
    "vectorized = np.zeros((3321,TMAX*len(instantaneous_phase)))\n",
    "for ind in range(len(instantaneous_phase)):\n",
    "    for t in range(len(instantaneous_phase[0][0])):\n",
    "        temp = np.array(())\n",
    "        for j in range(len(instantaneous_phase[0])):\n",
    "            for i in range(len(instantaneous_phase[0])):\n",
    "                if i>j:\n",
    "                    temp = np.append(temp,phase_diff[ind,i,j,t])        \n",
    "        vectorized[:,ind*TMAX+t] = temp\n",
    "        \n",
    "\n",
    "vectorized = vectorized.T\n",
    "# Quite lengthy operation: hate those for loops :'(\n",
    "# Maybe a way through numpy array handling\n",
    "# Could probably actually do both the i>j and the cos(sigma_phi) at the same time..."
   ]
  },
  {
   "cell_type": "code",
   "execution_count": null,
   "id": "ba715af9-97fd-463e-9fa1-414a2dc38a3f",
   "metadata": {},
   "outputs": [],
   "source": [
    "# TSCM K-Means\n",
    "# AW+OFF+ON5V\n",
    "    \n",
    "_5V_vector = np.concatenate((vectorized[:,0:32000], vectorized[:,56500:69000]), axis=1)\n",
    "\n",
    "    \n",
    "labels_5V = ()\n",
    "centroids_5V = ()\n",
    "\n",
    "k=7\n",
    "kmeans_5V = KMeans(n_clusters=k, random_state=1, n_init=500,init='random').fit(_5V_vector)\n",
    "labels_5V = kmeans_5V.labels_\n",
    "centroids_selv_pp = kmeans_5V.cluster_centers_\n",
    "np.save('TSCM_DBS_centroids_5V k='+ str(k), centroids_5V)    \n",
    "np.save('TSCM_DBS_labels_5V k='+ str(k), labels_5V)"
   ]
  },
  {
   "cell_type": "code",
   "execution_count": 13,
   "id": "b6fa0543-4463-4ef4-af8a-6fbef72098cd",
   "metadata": {},
   "outputs": [],
   "source": [
    "# Concatenate only awake, lpp and dpp for k-means\n",
    "# TSCM K-Means\n",
    "# AW+OFF+ON5VC\n",
    "    \n",
    "_5VC_vector = np.concatenate((vectorized[:,0:32000], vectorized[:,69000:78000]), axis=1)\n",
    "\n",
    "    \n",
    "labels_5VC = ()\n",
    "centroids_5VC = ()\n",
    "\n",
    "k=7\n",
    "kmeans_5VC = KMeans(n_clusters=k, random_state=1, n_init=500,init='random').fit(_5VC_vector)\n",
    "labels_5VC = kmeans_5VC.labels_\n",
    "centroids_selv_pp = kmeans_5VC.cluster_centers_\n",
    "np.save('TSCM_DBS_centroids_5VC k='+ str(k), centroids_5VC)    \n",
    "np.save('TSCM_DBS_labels_5VC k='+ str(k), labels_5VC)"
   ]
  },
  {
   "cell_type": "code",
   "execution_count": 14,
   "id": "ec67e6bb-34cf-4d51-a65e-866015e43191",
   "metadata": {},
   "outputs": [
    {
     "name": "stderr",
     "output_type": "stream",
     "text": [
      "/opt/miniconda/envs/jupyterhub/lib/python3.6/site-packages/ipykernel_launcher.py:17: ComplexWarning: Casting complex values to real discards the imaginary part\n"
     ]
    }
   ],
   "source": [
    "Time_per_rec = len(ts_all[0][0])\n",
    "N=len(ts_all[0])\n",
    "Total_patient = len(ts_all)\n",
    "Leading_Eig = np.empty((Total_patient*Time_per_rec,N))\n",
    "for ind in range(Total_patient):\n",
    "    for t in range(Time_per_rec):\n",
    "            eigenvalues, eigenvectors = np.linalg.eig(phase_diff[ind,:,:,t])\n",
    "            \n",
    "            V1 = eigenvectors[:, np.argmax(eigenvalues)]\n",
    "            \n",
    "            mean_positive = np.mean(V1 > 0)\n",
    "\n",
    "            if mean_positive > 0.5:\n",
    "                V1 = -V1\n",
    "            elif mean_positive == 0.5 and np.sum(V1[V1 > 0]) > -np.sum(V1[V1 < 0]):\n",
    "                V1 = -V1\n",
    "            Leading_Eig[Time_per_rec*ind+t] = V1"
   ]
  },
  {
   "cell_type": "code",
   "execution_count": 15,
   "id": "f1b4862d-44c1-4fd6-84cf-1b30a729e570",
   "metadata": {},
   "outputs": [],
   "source": [
    "_5V_vec = np.concatenate((Leading_Eig[:,0:32000], Leading_Eig[:,56500:69000]), axis=1)\n",
    "\n",
    "# K-Means 5V\n",
    "                                          \n",
    "labels_aw_pp = ()\n",
    "centroids_aw_pp = ()\n",
    "\n",
    "k=7\n",
    "kmeans_5V = KMeans(n_clusters=k, random_state=1, n_init=500,init='random').fit(_5V_vec)\n",
    "labels_5V = kmeans_5V.labels_\n",
    "centroids_5V = kmeans_5V.cluster_centers_\n",
    "np.save('centroids_DBS_LEiDA_5V k='+ str(k), centroids_5V)    \n",
    "np.save('labels_DBS_LEiDA_5V k='+ str(k), labels_5V)"
   ]
  },
  {
   "cell_type": "code",
   "execution_count": 16,
   "id": "5f427eb3-e056-420d-9293-cdea61150bae",
   "metadata": {},
   "outputs": [],
   "source": [
    "_5VC_vec = np.concatenate((Leading_Eig[:,0:32000], Leading_Eig[:,69000:78000]), axis=1)\n",
    "\n",
    "# K-Means 5VC\n",
    "                                          \n",
    "labels_aw_pp = ()\n",
    "centroids_aw_pp = ()\n",
    "\n",
    "k=7\n",
    "kmeans_5VC = KMeans(n_clusters=k, random_state=1, n_init=500,init='random').fit(_5VC_vec)\n",
    "labels_5VC = kmeans_5VC.labels_\n",
    "centroids_5VC = kmeans_5VC.cluster_centers_\n",
    "np.save('centroids_DBS_LEiDA_5VC k='+ str(k), centroids_5VC)    \n",
    "np.save('labels_DBS_LEiDA_5VC k='+ str(k), labels_5VC)"
   ]
  },
  {
   "cell_type": "code",
   "execution_count": 40,
   "id": "67af1e70-2963-42cd-884b-a9600ba1a813",
   "metadata": {},
   "outputs": [
    {
     "data": {
      "text/plain": [
       "82"
      ]
     },
     "execution_count": 40,
     "metadata": {},
     "output_type": "execute_result"
    }
   ],
   "source": [
    "len(labels_5VC)"
   ]
  },
  {
   "cell_type": "code",
   "execution_count": 41,
   "id": "2f230fe3-a65b-45aa-b6bc-4c5028a388f3",
   "metadata": {},
   "outputs": [
    {
     "name": "stdout",
     "output_type": "stream",
     "text": [
      "class:  ndarray\n",
      "shape:  (78000, 82)\n",
      "strides:  (656, 8)\n",
      "itemsize:  8\n",
      "aligned:  True\n",
      "contiguous:  True\n",
      "fortran:  False\n",
      "data pointer: 0x7f44405b5010\n",
      "byteorder:  little\n",
      "byteswap:  False\n",
      "type: float64\n"
     ]
    }
   ],
   "source": [
    "np.info(_5VC_vec)"
   ]
  },
  {
   "cell_type": "code",
   "execution_count": null,
   "id": "3ba5719f-87e5-4854-8226-678193fca4d0",
   "metadata": {},
   "outputs": [],
   "source": []
  }
 ],
 "metadata": {
  "kernelspec": {
   "display_name": "Python 3",
   "language": "python",
   "name": "python3"
  },
  "language_info": {
   "codemirror_mode": {
    "name": "ipython",
    "version": 3
   },
   "file_extension": ".py",
   "mimetype": "text/x-python",
   "name": "python",
   "nbconvert_exporter": "python",
   "pygments_lexer": "ipython3",
   "version": "3.8.10"
  },
  "vscode": {
   "interpreter": {
    "hash": "916dbcbb3f70747c44a77c7bcd40155683ae19c65e1c03b4aa3499c5328201f1"
   }
  }
 },
 "nbformat": 4,
 "nbformat_minor": 5
}
